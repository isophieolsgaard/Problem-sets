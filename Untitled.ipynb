{
 "cells": [
  {
   "cell_type": "markdown",
   "id": "2c2b0ede-7c8d-46f1-94a2-264aa0f7f413",
   "metadata": {},
   "source": [
    "Drawing random numbers"
   ]
  },
  {
   "cell_type": "code",
   "execution_count": 2,
   "id": "ff3ffc6a-58df-415a-9fe5-f2b819d96212",
   "metadata": {},
   "outputs": [
    {
     "name": "stdout",
     "output_type": "stream",
     "text": [
      "(0,0): x = 0.569\n",
      "(0,1): x = 0.077\n",
      "(1,0): x = 0.569\n",
      "(1,1): x = 0.077\n",
      "(2,0): x = 0.569\n",
      "(2,1): x = 0.077\n"
     ]
    }
   ],
   "source": [
    "import numpy as np\n",
    "np.random.seed(1986)\n",
    "state = np.random.get_state()\n",
    "for i in range(3):\n",
    "    np.random.set_state(state)\n",
    "    for j in range(2):\n",
    "        x = np.random.uniform()\n",
    "        print(f'({i},{j}): x = {x:.3f}')\n",
    "    "
   ]
  },
  {
   "cell_type": "markdown",
   "id": "cd71284e-a2eb-47d7-b133-a6d5fc5be4b3",
   "metadata": {},
   "source": [
    "Find the expected value"
   ]
  },
  {
   "cell_type": "code",
   "execution_count": null,
   "id": "e5f4bc22-8f1f-4cae-9e0a-c00f5cfcb68b",
   "metadata": {},
   "outputs": [],
   "source": [
    "sigma = 3.14\n",
    "omega = 2\n",
    "N = 10000\n",
    "np.random.seed(1986)\n",
    "# write your code here"
   ]
  }
 ],
 "metadata": {
  "kernelspec": {
   "display_name": "Python 3 (ipykernel)",
   "language": "python",
   "name": "python3"
  },
  "language_info": {
   "codemirror_mode": {
    "name": "ipython",
    "version": 3
   },
   "file_extension": ".py",
   "mimetype": "text/x-python",
   "name": "python",
   "nbconvert_exporter": "python",
   "pygments_lexer": "ipython3",
   "version": "3.9.7"
  }
 },
 "nbformat": 4,
 "nbformat_minor": 5
}
